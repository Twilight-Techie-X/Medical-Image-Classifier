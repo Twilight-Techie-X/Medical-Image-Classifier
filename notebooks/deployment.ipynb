{
 "cells": [
  {
   "cell_type": "markdown",
   "metadata": {},
   "source": [
    "# Deployment\n",
    "\n",
    "## Introduction\n",
    "This notebook will guide you through the steps to deploy the trained medical image classifier as a web application using Flask. Ensure that your trained model is available in the `model/` directory.\n",
    "\n",
    "## Steps\n",
    "1. Set Up the Flask Application\n",
    "2. Define API Endpoints\n",
    "3. Run the Flask App Locally\n",
    "4. (Optional) Dockerize the Application"
   ]
  },
  {
   "cell_type": "code",
   "execution_count": null,
   "metadata": {},
   "outputs": [],
   "source": [
    "# Install Flask (if not already installed)\n",
    "!pip install flask"
   ]
  },
  {
   "cell_type": "code",
   "execution_count": null,
   "metadata": {},
   "outputs": [],
   "source": [
    "# Write the Flask app\n",
    "%%writefile ../app/app.py"
   ]
  },
  {
   "cell_type": "code",
   "execution_count": null,
   "metadata": {},
   "outputs": [],
   "source": [
    "# deployment.ipynb\n",
    "\n",
    "import tensorflow as tf\n",
    "from flask import Flask, request, jsonify\n",
    "from PIL import Image\n",
    "import numpy as np\n",
    "\n",
    "app = Flask(__name__)\n",
    "model = tf.keras.models.load_model('../models/cnn_model.h5')\n",
    "\n",
    "def preprocess_image(image, target_size=(224, 224)):\n",
    "    image = image.resize(target_size)\n",
    "    image = np.array(image)\n",
    "    image = image / 255.0\n",
    "    image = np.expand_dims(image, axis=0)\n",
    "    return image\n",
    "\n",
    "@app.route('/predict', methods=['POST'])\n",
    "def predict():\n",
    "    file = request.files['file']\n",
    "    image = Image.open(file.stream)\n",
    "    processed_image = preprocess_image(image, target_size=(224, 224))\n",
    "    prediction = model.predict(processed_image).tolist()\n",
    "    return jsonify(prediction=prediction)\n",
    "\n",
    "if __name__ == '__main__':\n",
    "    app.run(debug=True)"
   ]
  }
 ],
 "metadata": {
  "language_info": {
   "name": "python"
  }
 },
 "nbformat": 4,
 "nbformat_minor": 2
}
